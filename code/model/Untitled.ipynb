{
 "cells": [
  {
   "cell_type": "markdown",
   "metadata": {},
   "source": [
    "Things changed:  \n",
    "1. sys.argv\n",
    "2. list break\n",
    "3. retina"
   ]
  },
  {
   "cell_type": "code",
   "execution_count": 1,
   "metadata": {},
   "outputs": [],
   "source": [
    "import warnings\n",
    "warnings.filterwarnings('ignore')\n",
    "\n",
    "from timeit import default_timer as timer\n",
    "import utils\n",
    "import os\n",
    "import glob\n",
    "import pickle\n",
    "import joblib\n",
    "import sys\n",
    "import matplotlib\n",
    "import tensorflow as tf\n",
    "import numpy as np\n",
    "import pandas as pd\n",
    "import seaborn as sns\n",
    "import matplotlib.pyplot as plt"
   ]
  },
  {
   "cell_type": "code",
   "execution_count": 8,
   "metadata": {},
   "outputs": [],
   "source": [
    "import tkinter"
   ]
  },
  {
   "cell_type": "code",
   "execution_count": 7,
   "metadata": {},
   "outputs": [],
   "source": [
    "%config InlineBackend.figure_format = 'retina'"
   ]
  },
  {
   "cell_type": "markdown",
   "metadata": {},
   "source": [
    "##########################################################\n",
    "# 1. Initialization\n",
    "##########################################################"
   ]
  },
  {
   "cell_type": "code",
   "execution_count": 4,
   "metadata": {},
   "outputs": [],
   "source": [
    "##########################################################\n",
    "# 1. Initialization\n",
    "##########################################################\n",
    "# Arguments\n",
    "downsample_ratio = 10\n",
    "window_size = 100\n",
    "predict_size = 25\n",
    "normal_folder = 'ryerson_train'\n",
    "anomaly_folder = 'ryerson_ab_train_LOS-5M-USRP1'\n",
    "shift_eval = 125\n",
    "batch_size = 128\n",
    "gpu_no = 0\n",
    "\n",
    "# downsample_ratio = int(sys.argv[1])\n",
    "# window_size = int(sys.argv[2])\n",
    "# predict_size = int(sys.argv[3])\n",
    "# normal_folder = str(sys.argv[4])  # e.g. ryerson\n",
    "# anomaly_folder = str(sys.argv[5])  # e.g. 0208_anomaly\n",
    "# shift_eval = int(sys.argv[6])\n",
    "# batch_size = int(sys.argv[7])\n",
    "# gpu_no = int(sys.argv[8])\n",
    "\n",
    "# Set gpu environment\n",
    "# os.environ[\"CUDA_VISIBLE_DEVICES\"] = str(gpu_no)\n",
    "physical_devices = tf.config.experimental.list_physical_devices('GPU')\n",
    "tf.config.experimental.set_visible_devices(physical_devices[gpu_no], 'GPU')\n",
    "logical_devices = tf.config.experimental.list_logical_devices('GPU')\n",
    "\n",
    "# String variables\n",
    "downsample_str = 'downsample_' + str(downsample_ratio)\n",
    "window_predict_size = str(window_size) + '_' + str(predict_size)\n",
    "\n",
    "# General path\n",
    "path = '/net/adv_spectrum/data/'\n",
    "\n",
    "# Path to read featurized txt\n",
    "abnormal_output_path = path + 'feature/{}/abnormal/{}/{}/'\\\n",
    "                    .format(downsample_str, anomaly_folder, window_predict_size)\n",
    "\n",
    "# Path to save model and full_x_valid\n",
    "full_x_valid_path = '/net/adv_spectrum/result/x_valid/'\n",
    "full_x_valid_filename = full_x_valid_path + 'full_x_valid_{}_{}_{}.pkl'\\\n",
    "                        .format(downsample_str,\n",
    "                                normal_folder,\n",
    "                                window_predict_size)\n",
    "model_path = '/net/adv_spectrum/model/{}/{}/'\\\n",
    "             .format(downsample_str, normal_folder)\n",
    "model_filename = model_path + '{}_{}.h5'\\\n",
    "                 .format(downsample_ratio, window_predict_size)\n",
    "model_info_filename = model_path + '{}_{}_{}_info.txt'\\\n",
    "                      .format(anomaly_folder,\n",
    "                              downsample_ratio,\n",
    "                              window_predict_size)\n",
    "model_size = os.path.getsize(model_filename)\n",
    "\n",
    "# Path to save valid error df and list of anomaly error df\n",
    "valid_error_df_path = '/net/adv_spectrum/result/error_df/valid/' \\\n",
    "                      '{}/{}/'.format(downsample_str, normal_folder)\n",
    "valid_error_df_filename = valid_error_df_path + 'valid_error_df_{}_{}.pkl'\\\n",
    "                          .format(normal_folder, window_predict_size)\n",
    "\n",
    "anom_error_df_list_path = '/net/adv_spectrum/result/error_df/anomaly/' \\\n",
    "                          '{}/{}/'.format(downsample_str, anomaly_folder)\n",
    "anom_error_df_list_filename = anom_error_df_list_path + \\\n",
    "                              'anom_error_df_{}_{}.pkl'\\\n",
    "                              .format(normal_folder, window_predict_size)\n",
    "\n",
    "# Path of figure\n",
    "figure_name = '[Anomaly v.s. Valid] CDF Plot for Prediction Error ' \\\n",
    "              '(ds_ratio={}, w_p_size={})'\\\n",
    "              .format(downsample_ratio, window_predict_size)\n",
    "figure_path = '/net/adv_spectrum/result/plot/'\n",
    "figure_filename = figure_path + 'CDF_plot_{}_{}_{}_{}.png'\\\n",
    "                  .format(normal_folder,\n",
    "                          anomaly_folder,\n",
    "                          downsample_ratio,\n",
    "                          window_predict_size)\n",
    "\n",
    "# Check path existence\n",
    "if not os.path.exists(full_x_valid_path):\n",
    "    os.makedirs(full_x_valid_path)\n",
    "if not os.path.exists(valid_error_df_path):\n",
    "    os.makedirs(valid_error_df_path)\n",
    "if not os.path.exists(anom_error_df_list_path):\n",
    "    os.makedirs(anom_error_df_list_path)\n",
    "if not os.path.exists(figure_path):\n",
    "    os.makedirs(figure_path)"
   ]
  },
  {
   "cell_type": "markdown",
   "metadata": {},
   "source": [
    "##########################################################\n",
    "# 2. Load Model and Data\n",
    "##########################################################"
   ]
  },
  {
   "cell_type": "code",
   "execution_count": 5,
   "metadata": {},
   "outputs": [
    {
     "name": "stdout",
     "output_type": "stream",
     "text": [
      "Start retrieving abnormal series....\n",
      "/net/adv_spectrum/data/feature/downsample_10/abnormal/ryerson_ab_train_LOS-5M-USRP1/100_25/feature_1518561613_1580685308_880M_5m_ap.txt\n"
     ]
    }
   ],
   "source": [
    "model = tf.keras.models.load_model(model_filename)\n",
    "\n",
    "# Change the path if you need other abnormal series. Be sure the series are\n",
    "# stored in a format of list of arrays (shape = [n, 128]).\n",
    "abnormal_series_list = []\n",
    "\n",
    "print('Start retrieving abnormal series....')\n",
    "for filename in sorted(glob.glob(abnormal_output_path + '*.txt')):\n",
    "    print(filename)\n",
    "    series = utils.txt_to_series(filename)\n",
    "    abnormal_series_list.append(series)\n",
    "    break\n",
    "\n",
    "# Comment out the following operation if you do not need validation data\n",
    "with open(full_x_valid_filename, 'rb') as f:\n",
    "    full_x_valid = joblib.load(f)"
   ]
  },
  {
   "cell_type": "markdown",
   "metadata": {},
   "source": [
    "# Comment out the next section if you do not need validation data\n",
    "##########################################################\n",
    "# 3. Construct MSE DataFrame for Validation Data\n",
    "##########################################################"
   ]
  },
  {
   "cell_type": "code",
   "execution_count": 44,
   "metadata": {},
   "outputs": [
    {
     "name": "stdout",
     "output_type": "stream",
     "text": [
      "Start constructing mse DataFrame...\n",
      "Validation spends -0.0004774024304677469 seconds! Hmm...\n"
     ]
    }
   ],
   "source": [
    "print('Start constructing mse DataFrame...')\n",
    "# Get valid_hat and evaluate time\n",
    "start = timer()\n",
    "valid_hat = utils.model_forecast(model, full_x_valid, batch_size, window_size,\n",
    "                                 predict_size, shift_eval)\n",
    "end = timer()\n",
    "validation_time = (start - end) / (len(full_x_valid) // shift_eval)\n",
    "print('Validation spends {} seconds! Hmm...'.format(validation_time))\n",
    "\n",
    "# Get valid true\n",
    "valid_hat_dim = np.shape(valid_hat)[0]\n",
    "valid_true = np.reshape(utils.windowed_true(full_x_valid, shift_eval, predict_size), (-1, predict_size, 128))\n",
    "\n",
    "# Create mse DataFrame\n",
    "valid_mse = np.mean(np.power(valid_hat - valid_true[:valid_hat_dim], 2), axis=(1, 2))\n",
    "valid_error_df = pd.DataFrame({'valid_error': valid_mse})\n",
    "\n",
    "# Save MSE DataFrame\n",
    "valid_error_df.to_pickle(valid_error_df_filename)"
   ]
  },
  {
   "cell_type": "markdown",
   "metadata": {},
   "source": [
    "##########################################################\n",
    "# 4. Construct Abnormal MSE\n",
    "##########################################################"
   ]
  },
  {
   "cell_type": "code",
   "execution_count": 45,
   "metadata": {},
   "outputs": [],
   "source": [
    "# Construct MSE DataFrame\n",
    "anom_hat_list = [utils.model_forecast(model, i, batch_size, window_size,\n",
    "                                      predict_size, shift_eval)\n",
    "                 for i in abnormal_series_list]\n",
    "anom_true_list = [utils.windowed_true(i, shift_eval, predict_size)\n",
    "                  for i in abnormal_series_list]\n",
    "\n",
    "anom_error_df_list = []\n",
    "\n",
    "for i in range(len(anom_hat_list)):\n",
    "    anom_hat = anom_hat_list[i]\n",
    "    anom_hat_dim = np.shape(anom_hat)[0]\n",
    "    anom_true = np.reshape(anom_true_list[i], (-1, predict_size, 128))\n",
    "\n",
    "    anom_mse = np.mean(np.power(anom_hat - anom_true[:anom_hat_dim], 2), axis=(1, 2))\n",
    "    anom_error_df = pd.DataFrame({'anom_error ' + str(i): anom_mse})\n",
    "    anom_error_df_list.append(anom_error_df)\n",
    "\n",
    "# Save MSE DataFrame\n",
    "# with open(anom_error_df_list_filename, 'wb') as f:\n",
    "#     pickle.dump(anom_error_df_list, f)"
   ]
  },
  {
   "cell_type": "code",
   "execution_count": 53,
   "metadata": {},
   "outputs": [],
   "source": [
    "cut95 = valid_error_df.quantile(0.95)[0]"
   ]
  },
  {
   "cell_type": "code",
   "execution_count": 61,
   "metadata": {},
   "outputs": [],
   "source": [
    "TP_df = anom_error_df[anom_error_df['anom_error 0'] > cut95]"
   ]
  },
  {
   "cell_type": "code",
   "execution_count": 62,
   "metadata": {},
   "outputs": [],
   "source": [
    "FN_df = anom_error_df[anom_error_df['anom_error 0'] <= cut95]"
   ]
  },
  {
   "cell_type": "code",
   "execution_count": 63,
   "metadata": {},
   "outputs": [
    {
     "data": {
      "text/plain": [
       "Int64Index([   0,    1,    2,    3,    4,    5,    6,    7,    8,    9,\n",
       "            ...\n",
       "            1239, 1240, 1241, 1242, 1243, 1244, 1245, 1246, 1247, 1248],\n",
       "           dtype='int64', length=1241)"
      ]
     },
     "execution_count": 63,
     "metadata": {},
     "output_type": "execute_result"
    }
   ],
   "source": [
    "TP_df.index"
   ]
  },
  {
   "cell_type": "code",
   "execution_count": 64,
   "metadata": {},
   "outputs": [
    {
     "data": {
      "text/plain": [
       "Int64Index([105, 114, 120, 139, 602, 609, 617, 1215], dtype='int64')"
      ]
     },
     "execution_count": 64,
     "metadata": {},
     "output_type": "execute_result"
    }
   ],
   "source": [
    "FN_df.index"
   ]
  },
  {
   "cell_type": "code",
   "execution_count": 67,
   "metadata": {},
   "outputs": [],
   "source": [
    "true = anom_true[105]\n",
    "pred = anom_hat[105]"
   ]
  },
  {
   "cell_type": "code",
   "execution_count": 102,
   "metadata": {},
   "outputs": [
    {
     "data": {
      "text/plain": [
       "(6012, 25, 36)"
      ]
     },
     "execution_count": 102,
     "metadata": {},
     "output_type": "execute_result"
    }
   ],
   "source": [
    "valid_true[:, :, 87:123].shape"
   ]
  },
  {
   "cell_type": "code",
   "execution_count": 47,
   "metadata": {},
   "outputs": [],
   "source": [
    "cut95 = valid_error_df.quantile(0.95)[0]"
   ]
  },
  {
   "cell_type": "code",
   "execution_count": 48,
   "metadata": {},
   "outputs": [
    {
     "data": {
      "text/plain": [
       "0.5451670016113707"
      ]
     },
     "execution_count": 48,
     "metadata": {},
     "output_type": "execute_result"
    }
   ],
   "source": [
    "cut95"
   ]
  },
  {
   "cell_type": "code",
   "execution_count": 58,
   "metadata": {},
   "outputs": [],
   "source": [
    "y = [1 if e > cut95 else 0 for e in anom_error_df['anom_error ' + str(0)].values]\n",
    "detect_rate = sum(y) / len(y)"
   ]
  },
  {
   "cell_type": "code",
   "execution_count": 59,
   "metadata": {},
   "outputs": [
    {
     "data": {
      "text/plain": [
       "0.9935948759007206"
      ]
     },
     "execution_count": 59,
     "metadata": {},
     "output_type": "execute_result"
    }
   ],
   "source": [
    "detect_rate"
   ]
  },
  {
   "cell_type": "code",
   "execution_count": null,
   "metadata": {},
   "outputs": [],
   "source": []
  },
  {
   "cell_type": "code",
   "execution_count": 29,
   "metadata": {},
   "outputs": [],
   "source": [
    "anom_hat_list = [utils.model_forecast(model, i, batch_size, window_size,\n",
    "                                      predict_size, shift_eval)\n",
    "                 for i in abnormal_series_list]"
   ]
  },
  {
   "cell_type": "code",
   "execution_count": 24,
   "metadata": {},
   "outputs": [],
   "source": [
    "anom_true_list = [utils.windowed_true(i, shift_eval, predict_size)\n",
    "                  for i in abnormal_series_list]"
   ]
  },
  {
   "cell_type": "code",
   "execution_count": 33,
   "metadata": {},
   "outputs": [],
   "source": [
    "anom_true = anom_true_list[0].reshape(-1, predict_size, 128)"
   ]
  },
  {
   "cell_type": "code",
   "execution_count": 34,
   "metadata": {},
   "outputs": [],
   "source": [
    "anom_hat = anom_hat_list[0]"
   ]
  },
  {
   "cell_type": "code",
   "execution_count": 41,
   "metadata": {},
   "outputs": [
    {
     "data": {
      "text/plain": [
       "(1249, 25, 128)"
      ]
     },
     "execution_count": 41,
     "metadata": {},
     "output_type": "execute_result"
    }
   ],
   "source": [
    "anom_true[:anom_hat.shape[0]].shape"
   ]
  },
  {
   "cell_type": "code",
   "execution_count": 38,
   "metadata": {},
   "outputs": [
    {
     "data": {
      "text/plain": [
       "(1249, 25, 128)"
      ]
     },
     "execution_count": 38,
     "metadata": {},
     "output_type": "execute_result"
    }
   ],
   "source": [
    "anom_hat.shape"
   ]
  },
  {
   "cell_type": "code",
   "execution_count": null,
   "metadata": {},
   "outputs": [],
   "source": []
  },
  {
   "cell_type": "code",
   "execution_count": 39,
   "metadata": {
    "scrolled": true
   },
   "outputs": [
    {
     "data": {
      "text/plain": [
       "(1249,)"
      ]
     },
     "execution_count": 39,
     "metadata": {},
     "output_type": "execute_result"
    }
   ],
   "source": [
    "np.mean(np.power(anom_hat - anom_true[:anom_hat_dim], 2), axis=(1, 2))"
   ]
  },
  {
   "cell_type": "code",
   "execution_count": null,
   "metadata": {},
   "outputs": [],
   "source": []
  },
  {
   "cell_type": "markdown",
   "metadata": {},
   "source": [
    "##########################################################\n",
    "# 5. Plot for Spectrum\n",
    "##########################################################"
   ]
  },
  {
   "cell_type": "code",
   "execution_count": 14,
   "metadata": {},
   "outputs": [],
   "source": [
    "with open(valid_error_df_filename, 'rb') as f:\n",
    "    valid_error_df = pickle.load(f)\n",
    "\n",
    "cut = valid_error_df.quantile(0.95)[0]"
   ]
  },
  {
   "cell_type": "code",
   "execution_count": 18,
   "metadata": {},
   "outputs": [],
   "source": [
    "abnormal_df = anom_error_df[anom_error_df['anom_error 0'] > cut]\n",
    "normal_df = anom_error_df[anom_error_df['anom_error 0'] <= cut]"
   ]
  },
  {
   "cell_type": "code",
   "execution_count": 19,
   "metadata": {},
   "outputs": [
    {
     "data": {
      "text/plain": [
       "Int64Index([    3,     9,    10,    14,    15,    16,    17,    18,    19,\n",
       "               20,\n",
       "            ...\n",
       "            31205, 31206, 31207, 31209, 31211, 31218, 31219, 31221, 31222,\n",
       "            31224],\n",
       "           dtype='int64', length=19848)"
      ]
     },
     "execution_count": 19,
     "metadata": {},
     "output_type": "execute_result"
    }
   ],
   "source": [
    "abnormal_df.index"
   ]
  },
  {
   "cell_type": "code",
   "execution_count": 20,
   "metadata": {},
   "outputs": [
    {
     "data": {
      "text/plain": [
       "Int64Index([    0,     1,     2,     4,     5,     6,     7,     8,    11,\n",
       "               12,\n",
       "            ...\n",
       "            31208, 31210, 31212, 31213, 31214, 31215, 31216, 31217, 31220,\n",
       "            31223],\n",
       "           dtype='int64', length=11377)"
      ]
     },
     "execution_count": 20,
     "metadata": {},
     "output_type": "execute_result"
    }
   ],
   "source": [
    "normal_df.index"
   ]
  },
  {
   "cell_type": "code",
   "execution_count": 23,
   "metadata": {},
   "outputs": [
    {
     "data": {
      "text/plain": [
       "(128,)"
      ]
     },
     "execution_count": 23,
     "metadata": {},
     "output_type": "execute_result"
    }
   ],
   "source": [
    "anom_hat[3].shape"
   ]
  },
  {
   "cell_type": "code",
   "execution_count": 87,
   "metadata": {},
   "outputs": [
    {
     "data": {
      "text/plain": [
       "Int64Index([105, 114, 120, 139, 602, 609, 617, 1215], dtype='int64')"
      ]
     },
     "execution_count": 87,
     "metadata": {},
     "output_type": "execute_result"
    }
   ],
   "source": [
    "FN_df.index"
   ]
  },
  {
   "cell_type": "code",
   "execution_count": 98,
   "metadata": {},
   "outputs": [
    {
     "data": {
      "text/plain": [
       "<matplotlib.colorbar.Colorbar at 0x7fe3967386a0>"
      ]
     },
     "execution_count": 98,
     "metadata": {},
     "output_type": "execute_result"
    },
    {
     "data": {
      "image/png": "[encoded data removed]",
      "text/plain": [
       "<Figure size 432x288 with 2 Axes>"
      ]
     },
     "metadata": {
      "image/png": {
       "height": 262,
       "width": 383
      },
      "needs_background": "light"
     },
     "output_type": "display_data"
    }
   ],
   "source": [
    "fig, axes = plt.subplots(1, 1, sharex=True, sharey=True)\n",
    "data_array = anom_true[1215].reshape((predict_size, 128)).T\n",
    "im = axes.imshow(data_array, cmap='jet',vmin=-1, vmax=1,aspect='auto')\n",
    "axes.tick_params(direction=\"in\")\n",
    "axes.set_yticks([0, 128])\n",
    "axes.set_xlabel('Time(ms)', size=10)\n",
    "axes.set_ylabel('Frequncy (MHz)', size=10)\n",
    "fig.colorbar(im, ax=axes)"
   ]
  },
  {
   "cell_type": "code",
   "execution_count": 99,
   "metadata": {},
   "outputs": [
    {
     "data": {
      "text/plain": [
       "<matplotlib.colorbar.Colorbar at 0x7fe3943349b0>"
      ]
     },
     "execution_count": 99,
     "metadata": {},
     "output_type": "execute_result"
    },
    {
     "data": {
      "image/png": "[encoded data removed]",
      "text/plain": [
       "<Figure size 432x288 with 2 Axes>"
      ]
     },
     "metadata": {
      "image/png": {
       "height": 262,
       "width": 383
      },
      "needs_background": "light"
     },
     "output_type": "display_data"
    }
   ],
   "source": [
    "fig, axes = plt.subplots(1, 1, sharex=True, sharey=True)\n",
    "data_array = anom_hat[1215].reshape((predict_size, 128)).T\n",
    "im = axes.imshow(data_array, cmap='jet',vmin=-1, vmax=1,aspect='auto')\n",
    "axes.tick_params(direction=\"in\")\n",
    "axes.set_yticks([0,128])\n",
    "axes.set_xlabel('Time(ms)', size=10)\n",
    "axes.set_ylabel('Frequncy (MHz)', size=10)\n",
    "fig.colorbar(im, ax=axes)"
   ]
  },
  {
   "cell_type": "code",
   "execution_count": 84,
   "metadata": {},
   "outputs": [
    {
     "data": {
      "text/plain": [
       "<matplotlib.colorbar.Colorbar at 0x7fe3965a99b0>"
      ]
     },
     "execution_count": 84,
     "metadata": {},
     "output_type": "execute_result"
    },
    {
     "data": {
      "image/png": "[encoded data removed]",
      "text/plain": [
       "<Figure size 432x288 with 2 Axes>"
      ]
     },
     "metadata": {
      "image/png": {
       "height": 262,
       "width": 383
      },
      "needs_background": "light"
     },
     "output_type": "display_data"
    }
   ],
   "source": [
    "fig, axes = plt.subplots(1, 1, sharex=True, sharey=True)\n",
    "data_array = anom_true[0].reshape((predict_size, 128)).T\n",
    "im = axes.imshow(data_array, cmap='jet',vmin=-1, vmax=1,aspect='auto')\n",
    "axes.tick_params(direction=\"in\")\n",
    "axes.set_yticks([0,128])\n",
    "axes.set_xlabel('Time(ms)', size=10)\n",
    "axes.set_ylabel('Frequncy (MHz)', size=10)\n",
    "fig.colorbar(im, ax=axes)"
   ]
  },
  {
   "cell_type": "code",
   "execution_count": 85,
   "metadata": {},
   "outputs": [
    {
     "data": {
      "text/plain": [
       "<matplotlib.colorbar.Colorbar at 0x7fe39c0c9cc0>"
      ]
     },
     "execution_count": 85,
     "metadata": {},
     "output_type": "execute_result"
    },
    {
     "data": {
      "image/png": "[encoded data removed]",
      "text/plain": [
       "<Figure size 432x288 with 2 Axes>"
      ]
     },
     "metadata": {
      "image/png": {
       "height": 262,
       "width": 383
      },
      "needs_background": "light"
     },
     "output_type": "display_data"
    }
   ],
   "source": [
    "fig, axes = plt.subplots(1, 1, sharex=True, sharey=True)\n",
    "data_array = anom_hat[0].reshape((predict_size, 128)).T\n",
    "im = axes.imshow(data_array, cmap='jet',vmin=-1, vmax=1,aspect='auto')\n",
    "axes.tick_params(direction=\"in\")\n",
    "axes.set_yticks([0,128])\n",
    "axes.set_xlabel('Time(ms)', size=10)\n",
    "axes.set_ylabel('Frequncy (MHz)', size=10)\n",
    "fig.colorbar(im, ax=axes)"
   ]
  },
  {
   "cell_type": "code",
   "execution_count": null,
   "metadata": {},
   "outputs": [],
   "source": [
    "def plot_normalized_batch_spec(plotDict):\n",
    "    time_step = 1000\n",
    "    Slen = 128\n",
    "    image_num = 5\n",
    "    time_duration = 3 # one image is about 1s, so # of images = time duration (s)\n",
    "    start_point = 12800\n",
    "    line_count = 0\n",
    "\n",
    "    for time in range(0, time_duration):\n",
    "            fig, axes = plt.subplots(image_num, 1, sharex=True, sharey=True)\n",
    "            for index in range(0,image_num):\n",
    "                    data = []\n",
    "                    fid = open(plotDict[index][0] + '.txt','r')\n",
    "                    for i in range(0,start_point):\n",
    "                        fid.readline()\n",
    "                    for i in range(0,time_step):\n",
    "                        line = fid.readline()\n",
    "                        line_count += 1\n",
    "                        amplitude = line.split()\n",
    "                        current_data = [float(i) for i in amplitude]\n",
    "                        mean_data= np.mean(current_data)\n",
    "                        std_data = np.std(current_data)\n",
    "                        normalized_data = standard(current_data, mean_data, std_data)\n",
    "                        data += normalized_data\n",
    "\n",
    "                    data_array = np.array(data).reshape((time_step,Slen)).T\n",
    "                    im = axes[index].imshow(data_array,cmap='jet',vmin=-1,vmax=1,aspect='auto')\n",
    "                    axes[index].set_title(plotDict[index][1])\n",
    "                    axes[index].tick_params(direction=\"in\")\n",
    "                    axes[index].set_yticks([0,128])\n",
    "            axes[image_num-1].set_xlabel('Time(ms)',size=16)\n",
    "            axes[2].set_ylabel('Frequncy (MHz)', size=16)\n",
    "            ax2_v = axes[2].twinx()\n",
    "            ax2_v.yaxis.set_label_position(\"right\")\n",
    "            ax2_v.set_ylabel('FFT Amp. (dBm)', size=16, labelpad = 70)\n",
    "            plt.setp(ax2_v.get_yticklabels(), visible=False)\n",
    "            xtick = [i*5 for i in [0,40,80,120,160,200]]\n",
    "            plt.setp(axes, xticks=xtick, xticklabels=[int(i*0.25) for i in xtick],\n",
    "                     yticks=[0,128], yticklabels=['0','5'])\n",
    "            plt.subplots_adjust(hspace=0.7)\n",
    "            fig.colorbar(im, ax=axes.ravel().tolist())\n",
    "            fig.savefig('normalized' + str(time+1) + '00ms.png', dpi=1200)\n",
    "            plt.show()\n",
    "            plt.close(fig)\n"
   ]
  },
  {
   "cell_type": "code",
   "execution_count": null,
   "metadata": {},
   "outputs": [],
   "source": [
    "\n",
    "PlotDict = [['1518591120_880M_5m_ap','Normal BS'], \n",
    "            ['1518591120_1580413698_880M_5m_ap', 'FBS'],\n",
    "            ['1518591120_880M_5m_sigOver_ap', 'CSO'],\n",
    "            ['1518591120_880M_5m_relay_ap', 'MitM'],\n",
    "            ['0208_880M_qpsk_searle_i1_ap','Jamming']]\n",
    "\n",
    "plot_normalized_batch_spec(PlotDict)"
   ]
  }
 ],
 "metadata": {
  "kernelspec": {
   "display_name": "Python 3",
   "language": "python",
   "name": "python3"
  },
  "language_info": {
   "codemirror_mode": {
    "name": "ipython",
    "version": 3
   },
   "file_extension": ".py",
   "mimetype": "text/x-python",
   "name": "python",
   "nbconvert_exporter": "python",
   "pygments_lexer": "ipython3",
   "version": "3.6.9"
  }
 },
 "nbformat": 4,
 "nbformat_minor": 2
}
