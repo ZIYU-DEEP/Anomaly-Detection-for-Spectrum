{
 "cells": [
  {
   "cell_type": "markdown",
   "metadata": {},
   "source": [
    "# Loading Data"
   ]
  },
  {
   "cell_type": "code",
   "execution_count": 4,
   "metadata": {},
   "outputs": [],
   "source": [
    "import numpy as np\n",
    "import pandas as pd\n",
    "import os\n",
    "import pickle\n",
    "import joblib\n",
    "import sys\n",
    "import glob\n",
    "import matplotlib.pyplot as plt\n",
    "from scipy.stats.stats import pearsonr\n",
    "from scipy.signal import correlate\n",
    "import seaborn as sns\n",
    "import pyod\n",
    "from pyod.models.ocsvm import OCSVM\n",
    "from pyod.models.lof import LOF\n",
    "from pyod.models.pca import PCA\n",
    "from pyod.models.iforest import IForest\n",
    "from pyod.models.lmdd import LMDD\n",
    "from scipy.stats import skew, kurtosis\n",
    "import warnings\n",
    "\n",
    "warnings.filterwarnings('ignore')\n",
    "%config InlineBackend.figure_format = 'retina'"
   ]
  },
  {
   "cell_type": "code",
   "execution_count": 41,
   "metadata": {},
   "outputs": [],
   "source": [
    "normal_path = '/net/adv_spectrum/data/rss/downsample_10/normal/871_ab'\n",
    "fbs_1_path = '/net/adv_spectrum/data/rss/downsample_10/abnormal/871_ab_LOS-5M-USRP1'\n",
    "fbs_2_path = '/net/adv_spectrum/data/rss/downsample_10/abnormal/871_ab_LOS-5M-USRP2'\n",
    "fbs_3_path = '/net/adv_spectrum/data/rss/downsample_10/abnormal/871_ab_LOS-5M-USRP3'\n",
    "fbs_4_path = '/net/adv_spectrum/data/rss/downsample_10/abnormal/871_ab_NLOS-5M-USRP1'\n",
    "fbs_5_path = '/net/adv_spectrum/data/rss/downsample_10/abnormal/871_ab_Dynamics-5M-USRP1'\n",
    "cso_path = '/net/adv_spectrum/data/rss/downsample_10/abnormal/871_ab_sigOver_5ms'\n",
    "jamming_path = '/net/adv_spectrum/data/rss/downsample_10/abnormal/871_ab_wn'\n",
    "# jamming_path = '/net/adv_spectrum/data/rss/downsample_10/abnormal/0208_anomaly'"
   ]
  },
  {
   "cell_type": "code",
   "execution_count": 25,
   "metadata": {},
   "outputs": [],
   "source": [
    "def rss_power(path):\n",
    "    rss = []\n",
    "    for file in glob.glob(path + '/*.txt'):\n",
    "        with open(file, 'r') as f:\n",
    "            for line in f:\n",
    "                x = line.split()\n",
    "                rss.append(float(x[0]))\n",
    "    return np.array(rss)\n",
    "\n",
    "def rss_autocorr(path, step=1000):\n",
    "    all_corrs = []\n",
    "    for file in glob.glob(path + '/*.txt'):\n",
    "        rss = []\n",
    "        with open(file, 'r') as f:\n",
    "            for line in f:\n",
    "                x = line.split()\n",
    "                rss.append(float(x[0]))\n",
    "        if len(rss) < 156000:\n",
    "            continue\n",
    "        else:\n",
    "            rss = np.array(rss).reshape(-1)[:156000]\n",
    "        corrs = []\n",
    "        for i in range(step, len(rss), step):\n",
    "            corr = pearsonr(rss[i - step:i], rss[i:i + step])[0]\n",
    "            corrs.append(corr)\n",
    "        all_corrs.extend(corrs)\n",
    "    return np.array(all_corrs)"
   ]
  },
  {
   "cell_type": "code",
   "execution_count": 26,
   "metadata": {},
   "outputs": [],
   "source": [
    "normal_power = rss_power(normal_path)\n",
    "jss_power = rss_power(jamming_path)\n",
    "fbs_power = rss_power(fbs_4_path)\n",
    "cso_power = rss_power(cso_path)"
   ]
  },
  {
   "cell_type": "code",
   "execution_count": 43,
   "metadata": {},
   "outputs": [],
   "source": [
    "normal_corrs = rss_autocorr(normal_path)\n",
    "jss_corrs = rss_autocorr(jamming_path)\n",
    "fbs_corrs = rss_autocorr(fbs_4_path)\n",
    "cso_corrs = rss_autocorr(cso_path)"
   ]
  },
  {
   "cell_type": "code",
   "execution_count": 29,
   "metadata": {},
   "outputs": [
    {
     "ename": "ValueError",
     "evalue": "Length of values does not match length of index",
     "output_type": "error",
     "traceback": [
      "\u001b[0;31m-------------------------\u001b[0m",
      "\u001b[0;31mValueError\u001b[0mTraceback (most recent call last)",
      "\u001b[0;32m<ipython-input-29-392dab9c489a>\u001b[0m in \u001b[0;36m<module>\u001b[0;34m\u001b[0m\n\u001b[1;32m      4\u001b[0m                     ['FBS']*np.shape(fbs_power)[0], ['CSO']*np.shape(cso_power)[0], ))\n\u001b[1;32m      5\u001b[0m \u001b[0mdf_rss\u001b[0m \u001b[0;34m=\u001b[0m \u001b[0mpd\u001b[0m\u001b[0;34m.\u001b[0m\u001b[0mDataFrame\u001b[0m\u001b[0;34m(\u001b[0m\u001b[0mX\u001b[0m\u001b[0;34m,\u001b[0m \u001b[0mcolumns\u001b[0m\u001b[0;34m=\u001b[0m\u001b[0;34m[\u001b[0m\u001b[0;34m'RSS'\u001b[0m\u001b[0;34m]\u001b[0m\u001b[0;34m)\u001b[0m\u001b[0;34m\u001b[0m\u001b[0;34m\u001b[0m\u001b[0m\n\u001b[0;32m----> 6\u001b[0;31m \u001b[0mdf_rss\u001b[0m\u001b[0;34m[\u001b[0m\u001b[0;34m'CORR'\u001b[0m\u001b[0;34m]\u001b[0m \u001b[0;34m=\u001b[0m \u001b[0mX_corrs\u001b[0m\u001b[0;34m\u001b[0m\u001b[0;34m\u001b[0m\u001b[0m\n\u001b[0m\u001b[1;32m      7\u001b[0m \u001b[0mdf_rss\u001b[0m\u001b[0;34m[\u001b[0m\u001b[0;34m'Type'\u001b[0m\u001b[0;34m]\u001b[0m \u001b[0;34m=\u001b[0m \u001b[0my\u001b[0m\u001b[0;34m\u001b[0m\u001b[0;34m\u001b[0m\u001b[0m\n",
      "\u001b[0;32m~/env/lib/python3.6/site-packages/pandas/core/frame.py\u001b[0m in \u001b[0;36m__setitem__\u001b[0;34m(self, key, value)\u001b[0m\n\u001b[1;32m   3485\u001b[0m         \u001b[0;32melse\u001b[0m\u001b[0;34m:\u001b[0m\u001b[0;34m\u001b[0m\u001b[0;34m\u001b[0m\u001b[0m\n\u001b[1;32m   3486\u001b[0m             \u001b[0;31m# set column\u001b[0m\u001b[0;34m\u001b[0m\u001b[0;34m\u001b[0m\u001b[0;34m\u001b[0m\u001b[0m\n\u001b[0;32m-> 3487\u001b[0;31m             \u001b[0mself\u001b[0m\u001b[0;34m.\u001b[0m\u001b[0m_set_item\u001b[0m\u001b[0;34m(\u001b[0m\u001b[0mkey\u001b[0m\u001b[0;34m,\u001b[0m \u001b[0mvalue\u001b[0m\u001b[0;34m)\u001b[0m\u001b[0;34m\u001b[0m\u001b[0;34m\u001b[0m\u001b[0m\n\u001b[0m\u001b[1;32m   3488\u001b[0m \u001b[0;34m\u001b[0m\u001b[0m\n\u001b[1;32m   3489\u001b[0m     \u001b[0;32mdef\u001b[0m \u001b[0m_setitem_slice\u001b[0m\u001b[0;34m(\u001b[0m\u001b[0mself\u001b[0m\u001b[0;34m,\u001b[0m \u001b[0mkey\u001b[0m\u001b[0;34m,\u001b[0m \u001b[0mvalue\u001b[0m\u001b[0;34m)\u001b[0m\u001b[0;34m:\u001b[0m\u001b[0;34m\u001b[0m\u001b[0;34m\u001b[0m\u001b[0m\n",
      "\u001b[0;32m~/env/lib/python3.6/site-packages/pandas/core/frame.py\u001b[0m in \u001b[0;36m_set_item\u001b[0;34m(self, key, value)\u001b[0m\n\u001b[1;32m   3562\u001b[0m \u001b[0;34m\u001b[0m\u001b[0m\n\u001b[1;32m   3563\u001b[0m         \u001b[0mself\u001b[0m\u001b[0;34m.\u001b[0m\u001b[0m_ensure_valid_index\u001b[0m\u001b[0;34m(\u001b[0m\u001b[0mvalue\u001b[0m\u001b[0;34m)\u001b[0m\u001b[0;34m\u001b[0m\u001b[0;34m\u001b[0m\u001b[0m\n\u001b[0;32m-> 3564\u001b[0;31m         \u001b[0mvalue\u001b[0m \u001b[0;34m=\u001b[0m \u001b[0mself\u001b[0m\u001b[0;34m.\u001b[0m\u001b[0m_sanitize_column\u001b[0m\u001b[0;34m(\u001b[0m\u001b[0mkey\u001b[0m\u001b[0;34m,\u001b[0m \u001b[0mvalue\u001b[0m\u001b[0;34m)\u001b[0m\u001b[0;34m\u001b[0m\u001b[0;34m\u001b[0m\u001b[0m\n\u001b[0m\u001b[1;32m   3565\u001b[0m         \u001b[0mNDFrame\u001b[0m\u001b[0;34m.\u001b[0m\u001b[0m_set_item\u001b[0m\u001b[0;34m(\u001b[0m\u001b[0mself\u001b[0m\u001b[0;34m,\u001b[0m \u001b[0mkey\u001b[0m\u001b[0;34m,\u001b[0m \u001b[0mvalue\u001b[0m\u001b[0;34m)\u001b[0m\u001b[0;34m\u001b[0m\u001b[0;34m\u001b[0m\u001b[0m\n\u001b[1;32m   3566\u001b[0m \u001b[0;34m\u001b[0m\u001b[0m\n",
      "\u001b[0;32m~/env/lib/python3.6/site-packages/pandas/core/frame.py\u001b[0m in \u001b[0;36m_sanitize_column\u001b[0;34m(self, key, value, broadcast)\u001b[0m\n\u001b[1;32m   3747\u001b[0m \u001b[0;34m\u001b[0m\u001b[0m\n\u001b[1;32m   3748\u001b[0m             \u001b[0;31m# turn me into an ndarray\u001b[0m\u001b[0;34m\u001b[0m\u001b[0;34m\u001b[0m\u001b[0;34m\u001b[0m\u001b[0m\n\u001b[0;32m-> 3749\u001b[0;31m             \u001b[0mvalue\u001b[0m \u001b[0;34m=\u001b[0m \u001b[0msanitize_index\u001b[0m\u001b[0;34m(\u001b[0m\u001b[0mvalue\u001b[0m\u001b[0;34m,\u001b[0m \u001b[0mself\u001b[0m\u001b[0;34m.\u001b[0m\u001b[0mindex\u001b[0m\u001b[0;34m,\u001b[0m \u001b[0mcopy\u001b[0m\u001b[0;34m=\u001b[0m\u001b[0;32mFalse\u001b[0m\u001b[0;34m)\u001b[0m\u001b[0;34m\u001b[0m\u001b[0;34m\u001b[0m\u001b[0m\n\u001b[0m\u001b[1;32m   3750\u001b[0m             \u001b[0;32mif\u001b[0m \u001b[0;32mnot\u001b[0m \u001b[0misinstance\u001b[0m\u001b[0;34m(\u001b[0m\u001b[0mvalue\u001b[0m\u001b[0;34m,\u001b[0m \u001b[0;34m(\u001b[0m\u001b[0mnp\u001b[0m\u001b[0;34m.\u001b[0m\u001b[0mndarray\u001b[0m\u001b[0;34m,\u001b[0m \u001b[0mIndex\u001b[0m\u001b[0;34m)\u001b[0m\u001b[0;34m)\u001b[0m\u001b[0;34m:\u001b[0m\u001b[0;34m\u001b[0m\u001b[0;34m\u001b[0m\u001b[0m\n\u001b[1;32m   3751\u001b[0m                 \u001b[0;32mif\u001b[0m \u001b[0misinstance\u001b[0m\u001b[0;34m(\u001b[0m\u001b[0mvalue\u001b[0m\u001b[0;34m,\u001b[0m \u001b[0mlist\u001b[0m\u001b[0;34m)\u001b[0m \u001b[0;32mand\u001b[0m \u001b[0mlen\u001b[0m\u001b[0;34m(\u001b[0m\u001b[0mvalue\u001b[0m\u001b[0;34m)\u001b[0m \u001b[0;34m>\u001b[0m \u001b[0;36m0\u001b[0m\u001b[0;34m:\u001b[0m\u001b[0;34m\u001b[0m\u001b[0;34m\u001b[0m\u001b[0m\n",
      "\u001b[0;32m~/env/lib/python3.6/site-packages/pandas/core/internals/construction.py\u001b[0m in \u001b[0;36msanitize_index\u001b[0;34m(data, index, copy)\u001b[0m\n\u001b[1;32m    610\u001b[0m \u001b[0;34m\u001b[0m\u001b[0m\n\u001b[1;32m    611\u001b[0m     \u001b[0;32mif\u001b[0m \u001b[0mlen\u001b[0m\u001b[0;34m(\u001b[0m\u001b[0mdata\u001b[0m\u001b[0;34m)\u001b[0m \u001b[0;34m!=\u001b[0m \u001b[0mlen\u001b[0m\u001b[0;34m(\u001b[0m\u001b[0mindex\u001b[0m\u001b[0;34m)\u001b[0m\u001b[0;34m:\u001b[0m\u001b[0;34m\u001b[0m\u001b[0;34m\u001b[0m\u001b[0m\n\u001b[0;32m--> 612\u001b[0;31m         \u001b[0;32mraise\u001b[0m \u001b[0mValueError\u001b[0m\u001b[0;34m(\u001b[0m\u001b[0;34m\"Length of values does not match length of index\"\u001b[0m\u001b[0;34m)\u001b[0m\u001b[0;34m\u001b[0m\u001b[0;34m\u001b[0m\u001b[0m\n\u001b[0m\u001b[1;32m    613\u001b[0m \u001b[0;34m\u001b[0m\u001b[0m\n\u001b[1;32m    614\u001b[0m     \u001b[0;32mif\u001b[0m \u001b[0misinstance\u001b[0m\u001b[0;34m(\u001b[0m\u001b[0mdata\u001b[0m\u001b[0;34m,\u001b[0m \u001b[0mABCIndexClass\u001b[0m\u001b[0;34m)\u001b[0m \u001b[0;32mand\u001b[0m \u001b[0;32mnot\u001b[0m \u001b[0mcopy\u001b[0m\u001b[0;34m:\u001b[0m\u001b[0;34m\u001b[0m\u001b[0;34m\u001b[0m\u001b[0m\n",
      "\u001b[0;31mValueError\u001b[0m: Length of values does not match length of index"
     ]
    }
   ],
   "source": [
    "X = np.concatenate((normal_power, jss_power, fbs_power, cso_power))\n",
    "X_corrs = np.concatenate((normal_corrs, jss_corrs , fbs_corrs, cso_corrs))\n",
    "y = np.concatenate((['Normal']*np.shape(normal_power)[0], ['JSS']*np.shape(jss_power)[0],\n",
    "                    ['FBS']*np.shape(fbs_power)[0], ['CSO']*np.shape(cso_power)[0]))\n",
    "df_rss = pd.DataFrame(X, columns=['RSS'])\n",
    "df_rss['CORR'] = X_corrs\n",
    "df_rss['Type'] = y"
   ]
  },
  {
   "cell_type": "code",
   "execution_count": 44,
   "metadata": {},
   "outputs": [],
   "source": [
    "X_corrs = np.concatenate((normal_corrs, jss_corrs , fbs_corrs, cso_corrs))\n",
    "y_corrs = np.concatenate((['Normal']*np.shape(normal_corrs)[0], ['JSS']*np.shape(jss_corrs)[0],\n",
    "                    ['FBS']*np.shape(fbs_corrs)[0], ['CSO']*np.shape(cso_corrs)[0]))\n",
    "df_corrs = pd.DataFrame(X_corrs, columns=['CORR'])\n",
    "df_corrs['Type'] = y_corrs"
   ]
  },
  {
   "cell_type": "code",
   "execution_count": null,
   "metadata": {},
   "outputs": [],
   "source": [
    "X_corrs = np.concatenate((normal_corrs[:2000], jss_corrs[:2000] , fbs_corrs[:2000], cso_corrs[:2000]))\n",
    "y_corrs = np.concatenate((['Normal']*2000, ['JSS']*2000, ['FBS']*2000, ['CSO']*2000))\n",
    "df_corrs = pd.DataFrame(X_corrs, columns=['CORR'])\n",
    "df_corrs['Type'] = y_corrs"
   ]
  },
  {
   "cell_type": "code",
   "execution_count": 45,
   "metadata": {},
   "outputs": [
    {
     "data": {
      "text/html": [
       "<div>\n",
       "<style scoped>\n",
       "    .dataframe tbody tr th:only-of-type {\n",
       "        vertical-align: middle;\n",
       "    }\n",
       "\n",
       "    .dataframe tbody tr th {\n",
       "        vertical-align: top;\n",
       "    }\n",
       "\n",
       "    .dataframe thead th {\n",
       "        text-align: right;\n",
       "    }\n",
       "</style>\n",
       "<table border=\"1\" class=\"dataframe\">\n",
       "  <thead>\n",
       "    <tr style=\"text-align: right;\">\n",
       "      <th></th>\n",
       "      <th>CORR</th>\n",
       "      <th>Type</th>\n",
       "    </tr>\n",
       "  </thead>\n",
       "  <tbody>\n",
       "    <tr>\n",
       "      <th>0</th>\n",
       "      <td>0.587246</td>\n",
       "      <td>Normal</td>\n",
       "    </tr>\n",
       "    <tr>\n",
       "      <th>1</th>\n",
       "      <td>0.524909</td>\n",
       "      <td>Normal</td>\n",
       "    </tr>\n",
       "    <tr>\n",
       "      <th>2</th>\n",
       "      <td>0.562878</td>\n",
       "      <td>Normal</td>\n",
       "    </tr>\n",
       "    <tr>\n",
       "      <th>3</th>\n",
       "      <td>0.578580</td>\n",
       "      <td>Normal</td>\n",
       "    </tr>\n",
       "    <tr>\n",
       "      <th>4</th>\n",
       "      <td>0.530185</td>\n",
       "      <td>Normal</td>\n",
       "    </tr>\n",
       "    <tr>\n",
       "      <th>...</th>\n",
       "      <td>...</td>\n",
       "      <td>...</td>\n",
       "    </tr>\n",
       "    <tr>\n",
       "      <th>28360</th>\n",
       "      <td>0.488477</td>\n",
       "      <td>CSO</td>\n",
       "    </tr>\n",
       "    <tr>\n",
       "      <th>28361</th>\n",
       "      <td>0.443892</td>\n",
       "      <td>CSO</td>\n",
       "    </tr>\n",
       "    <tr>\n",
       "      <th>28362</th>\n",
       "      <td>0.568956</td>\n",
       "      <td>CSO</td>\n",
       "    </tr>\n",
       "    <tr>\n",
       "      <th>28363</th>\n",
       "      <td>0.564061</td>\n",
       "      <td>CSO</td>\n",
       "    </tr>\n",
       "    <tr>\n",
       "      <th>28364</th>\n",
       "      <td>0.532703</td>\n",
       "      <td>CSO</td>\n",
       "    </tr>\n",
       "  </tbody>\n",
       "</table>\n",
       "<p>28365 rows × 2 columns</p>\n",
       "</div>"
      ],
      "text/plain": [
       "           CORR    Type\n",
       "0      0.587246  Normal\n",
       "1      0.524909  Normal\n",
       "2      0.562878  Normal\n",
       "3      0.578580  Normal\n",
       "4      0.530185  Normal\n",
       "...         ...     ...\n",
       "28360  0.488477     CSO\n",
       "28361  0.443892     CSO\n",
       "28362  0.568956     CSO\n",
       "28363  0.564061     CSO\n",
       "28364  0.532703     CSO\n",
       "\n",
       "[28365 rows x 2 columns]"
      ]
     },
     "execution_count": 45,
     "metadata": {},
     "output_type": "execute_result"
    }
   ],
   "source": [
    "df_corrs"
   ]
  },
  {
   "cell_type": "code",
   "execution_count": null,
   "metadata": {},
   "outputs": [],
   "source": [
    "sns.set_style('white')\n",
    "plt.rc('font', size=16)\n",
    "plt.rcParams[\"figure.figsize\"] = (5.5,5)\n",
    "flierprops = dict(markerfacecolor='1.0', markersize='3',\n",
    "                  linestyle='none', marker = 'o')\n",
    "colorset = sns.color_palette(\"Set2\")\n",
    "colors = [colorset[i] for i in [1,2,3,4]]\n",
    "ax = sns.catplot(x=\"Type\", y=\"RSS\", kind=\"box\", palette = colors, \n",
    "                 data=df_rss, flierprops=flierprops);\n",
    "ax.set(ylim=(-50, -25))\n",
    "sns.despine(top=False, right=False)\n",
    "plt.xlabel(\"\")\n",
    "plt.ylabel(\"RSS Raw\")\n",
    "plt.savefig('rss_bar.eps', bbox_inches = 'tight', format='eps')"
   ]
  },
  {
   "cell_type": "code",
   "execution_count": 49,
   "metadata": {},
   "outputs": [],
   "source": [
    "df_samp = df_corrs.sample(frac = 0.1)"
   ]
  },
  {
   "cell_type": "code",
   "execution_count": 51,
   "metadata": {},
   "outputs": [
    {
     "data": {
      "image/png": "[encoded data removed]",
      "text/plain": [
       "<Figure size 360x360 with 1 Axes>"
      ]
     },
     "metadata": {
      "image/png": {
       "height": 321,
       "width": 340
      }
     },
     "output_type": "display_data"
    }
   ],
   "source": [
    "sns.set_style('white')\n",
    "plt.rc('font', size=16)\n",
    "plt.rcParams[\"figure.figsize\"] = (5.5,5)\n",
    "flierprops = dict(markerfacecolor='1.0', markersize='3',\n",
    "                  linestyle='none', marker = 'o')\n",
    "colorset = sns.color_palette(\"Set2\")\n",
    "colors = [colorset[i] for i in [1,2,3,4]]\n",
    "ax = sns.catplot(x=\"Type\", y=\"CORR\", kind=\"box\", palette = colors, \n",
    "                 data=df_samp, flierprops=flierprops);\n",
    "# ax.set(ylim=(-50, -25))\n",
    "sns.despine(top=False, right=False)\n",
    "plt.xlabel(\"\")\n",
    "plt.ylabel(\"RSS Auto-correlation\")\n",
    "plt.savefig('corr_bar.eps', bbox_inches = 'tight', format='eps')"
   ]
  },
  {
   "cell_type": "markdown",
   "metadata": {},
   "source": [
    "# Add jamming inside"
   ]
  },
  {
   "cell_type": "code",
   "execution_count": null,
   "metadata": {},
   "outputs": [],
   "source": [
    "def plot_single_spec(filename, title):\n",
    "    time_step = 1000\n",
    "    Slen = 128\n",
    "#     image_num = 5\n",
    "    time_duration = 10 # one image is about 1s, so # of images = time duration (s)\n",
    "    start_point = 12800\n",
    "    line_count = 0\n",
    "\n",
    "    fid = open(filename + '.txt','r')\n",
    "    if not os.path.exists('single_plot/' + filename + '/'):\n",
    "            os.makedirs('single_plot/' + filename + '/')\n",
    "\n",
    "    for i in range(0,start_point):\n",
    "            fid.readline()\n",
    "    for time in range(0,time_duration):\n",
    "            fig_name = 'single_plot/' + filename + '/' + str(time+2) + '00ms.png'\n",
    "#             fig,axes = plt.subplots(nrows=image_num,ncols=1,sharex=True,sharey=True)\n",
    "            fig = plt.figure()\n",
    "            plt.yticks([0,64,128],['0','2.5M','5M'])\n",
    "            plt.xticks([0,200,400,600,800,1000], [0,51.2,102.4,153.6,204.8,256],size=14)\n",
    "\n",
    "#             for index in range(0,image_num):\n",
    "            data = []\n",
    "            for i in range(0,time_step):\n",
    "                    line = fid.readline()\n",
    "                    line_count += 1\n",
    "                    amplitude = line.split()\n",
    "                    current_data = [float(i) for i in amplitude]\n",
    "                    data += current_data\n",
    "\n",
    "            data_array = np.array(data).reshape((time_step,Slen)).T\n",
    "            im = plt.imshow(data_array,cmap='jet',vmin=-70,vmax=-20,aspect='auto')\n",
    "            \n",
    "            fig.colorbar(im)\n",
    "            fig.suptitle(title,size=14)\n",
    "            plt.xlabel('time(ms)')\n",
    "            plt.ylabel('frequency bins')\n",
    "            fig.savefig(fig_name, dpi=1200)\n",
    "            plt.show()\n",
    "            plt.close(fig)"
   ]
  }
 ],
 "metadata": {
  "kernelspec": {
   "display_name": "env",
   "language": "python",
   "name": "env"
  },
  "language_info": {
   "codemirror_mode": {
    "name": "ipython",
    "version": 3
   },
   "file_extension": ".py",
   "mimetype": "text/x-python",
   "name": "python",
   "nbconvert_exporter": "python",
   "pygments_lexer": "ipython3",
   "version": "3.6.8"
  }
 },
 "nbformat": 4,
 "nbformat_minor": 2
}
