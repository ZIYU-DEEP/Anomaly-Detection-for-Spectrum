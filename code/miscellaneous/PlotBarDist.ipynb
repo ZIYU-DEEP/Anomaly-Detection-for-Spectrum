{
 "cells": [
  {
   "cell_type": "markdown",
   "metadata": {},
   "source": [
    "# Loading Data"
   ]
  },
  {
   "cell_type": "code",
   "execution_count": 78,
   "metadata": {},
   "outputs": [],
   "source": [
    "import numpy as np\n",
    "import pandas as pd\n",
    "import os\n",
    "import pickle\n",
    "import joblib\n",
    "import sys\n",
    "import glob\n",
    "import matplotlib.pyplot as plt\n",
    "from scipy.stats.stats import pearsonr\n",
    "from scipy.signal import correlate\n",
    "import seaborn as sns\n",
    "import pyod\n",
    "from pyod.models.ocsvm import OCSVM\n",
    "from pyod.models.lof import LOF\n",
    "from pyod.models.pca import PCA\n",
    "from pyod.models.iforest import IForest\n",
    "from pyod.models.lmdd import LMDD\n",
    "from scipy.stats import skew, kurtosis\n",
    "import warnings\n",
    "\n",
    "warnings.filterwarnings('ignore')\n",
    "%config InlineBackend.figure_format = 'retina'"
   ]
  },
  {
   "cell_type": "code",
   "execution_count": 79,
   "metadata": {},
   "outputs": [],
   "source": [
    "normal_path = '/net/adv_spectrum/data/rss/downsample_10/normal/871_ab'\n",
    "fbs_1_path = '/net/adv_spectrum/data/rss/downsample_10/abnormal/871_ab_LOS-5M-USRP1'\n",
    "fbs_2_path = '/net/adv_spectrum/data/rss/downsample_10/abnormal/871_ab_LOS-5M-USRP2'\n",
    "fbs_3_path = '/net/adv_spectrum/data/rss/downsample_10/abnormal/871_ab_LOS-5M-USRP3'\n",
    "fbs_4_path = '/net/adv_spectrum/data/rss/downsample_10/abnormal/871_ab_NLOS-5M-USRP1'\n",
    "fbs_5_path = '/net/adv_spectrum/data/rss/downsample_10/abnormal/871_ab_Dynamics-5M-USRP1'\n",
    "cso_path = '/net/adv_spectrum/data/rss/downsample_10/abnormal/871_ab_sigOver_5ms'\n",
    "jamming_path = '/net/adv_spectrum/data/rss/downsample_10/abnormal/871_ab_wn'\n",
    "# jamming_path = '/net/adv_spectrum/data/rss/downsample_10/abnormal/0208_anomaly'"
   ]
  },
  {
   "cell_type": "code",
   "execution_count": 80,
   "metadata": {},
   "outputs": [],
   "source": [
    "def rss_power(path):\n",
    "    rss = []\n",
    "    for file in glob.glob(path + '/*.txt'):\n",
    "        with open(file, 'r') as f:\n",
    "            for line in f:\n",
    "                x = line.split()\n",
    "                rss.append(float(x[0]))\n",
    "    return np.array(rss)\n",
    "\n",
    "def rss_autocorr(path, step=1000):\n",
    "    all_corrs = []\n",
    "    for file in glob.glob(path + '/*.txt'):\n",
    "        rss = []\n",
    "        with open(file, 'r') as f:\n",
    "            for line in f:\n",
    "                x = line.split()\n",
    "                rss.append(float(x[0]))\n",
    "        if len(rss) < 156000:\n",
    "            continue\n",
    "        else:\n",
    "            rss = np.array(rss).reshape(-1)[:156000]\n",
    "        corrs = []\n",
    "        for i in range(step, len(rss), step):\n",
    "            corr = pearsonr(rss[i - step:i], rss[i:i + step])[0]\n",
    "            corrs.append(corr)\n",
    "        all_corrs.extend(corrs)\n",
    "    return np.array(all_corrs)"
   ]
  },
  {
   "cell_type": "code",
   "execution_count": 81,
   "metadata": {},
   "outputs": [],
   "source": [
    "normal_power = rss_power(normal_path)\n",
    "jss_power = rss_power(jamming_path)\n",
    "fbs_power = rss_power(fbs_4_path)\n",
    "cso_power = rss_power(cso_path)"
   ]
  },
  {
   "cell_type": "code",
   "execution_count": 82,
   "metadata": {},
   "outputs": [],
   "source": [
    "normal_corrs = rss_autocorr(normal_path)\n",
    "jss_corrs = rss_autocorr(jamming_path)\n",
    "fbs_corrs = rss_autocorr(fbs_4_path)\n",
    "cso_corrs = rss_autocorr(cso_path)"
   ]
  },
  {
   "cell_type": "code",
   "execution_count": 83,
   "metadata": {},
   "outputs": [],
   "source": [
    "X = np.concatenate((normal_power, jss_power, fbs_power, cso_power))\n",
    "# X_corrs = np.concatenate((normal_corrs, jss_corrs , fbs_corrs, cso_corrs))\n",
    "y = np.concatenate((['Normal']*np.shape(normal_power)[0], ['JSS']*np.shape(jss_power)[0],\n",
    "                    ['FBS']*np.shape(fbs_power)[0], ['CSO']*np.shape(cso_power)[0]))\n",
    "df_rss = pd.DataFrame(X, columns=['RSS'])\n",
    "# df_rss['CORR'] = X_corrs\n",
    "df_rss['Type'] = y"
   ]
  },
  {
   "cell_type": "code",
   "execution_count": 84,
   "metadata": {},
   "outputs": [],
   "source": [
    "X_corrs = np.concatenate((normal_corrs, jss_corrs , fbs_corrs, cso_corrs))\n",
    "y_corrs = np.concatenate((['Normal']*np.shape(normal_corrs)[0], ['JSS']*np.shape(jss_corrs)[0],\n",
    "                    ['FBS']*np.shape(fbs_corrs)[0], ['CSO']*np.shape(cso_corrs)[0]))\n",
    "df_corrs = pd.DataFrame(X_corrs, columns=['CORR'])\n",
    "df_corrs['Type'] = y_corrs"
   ]
  },
  {
   "cell_type": "code",
   "execution_count": 72,
   "metadata": {},
   "outputs": [],
   "source": [
    "sample = 1200\n",
    "X_corrs = np.concatenate((normal_corrs[:sample], jss_corrs[:sample] , fbs_corrs[:sample], cso_corrs[:sample]))\n",
    "y_corrs = np.concatenate((['Normal']*sample, ['JSS']*sample, ['FBS']*sample, ['CSO']*sample))\n",
    "df_corrs = pd.DataFrame(X_corrs, columns=['CORR'])\n",
    "df_corrs['Type'] = y_corrs"
   ]
  },
  {
   "cell_type": "code",
   "execution_count": 85,
   "metadata": {},
   "outputs": [
    {
     "data": {
      "text/html": [
       "<div>\n",
       "<style scoped>\n",
       "    .dataframe tbody tr th:only-of-type {\n",
       "        vertical-align: middle;\n",
       "    }\n",
       "\n",
       "    .dataframe tbody tr th {\n",
       "        vertical-align: top;\n",
       "    }\n",
       "\n",
       "    .dataframe thead th {\n",
       "        text-align: right;\n",
       "    }\n",
       "</style>\n",
       "<table border=\"1\" class=\"dataframe\">\n",
       "  <thead>\n",
       "    <tr style=\"text-align: right;\">\n",
       "      <th></th>\n",
       "      <th>CORR</th>\n",
       "      <th>Type</th>\n",
       "    </tr>\n",
       "  </thead>\n",
       "  <tbody>\n",
       "    <tr>\n",
       "      <th>0</th>\n",
       "      <td>0.587246</td>\n",
       "      <td>Normal</td>\n",
       "    </tr>\n",
       "    <tr>\n",
       "      <th>1</th>\n",
       "      <td>0.524909</td>\n",
       "      <td>Normal</td>\n",
       "    </tr>\n",
       "    <tr>\n",
       "      <th>2</th>\n",
       "      <td>0.562878</td>\n",
       "      <td>Normal</td>\n",
       "    </tr>\n",
       "    <tr>\n",
       "      <th>3</th>\n",
       "      <td>0.578580</td>\n",
       "      <td>Normal</td>\n",
       "    </tr>\n",
       "    <tr>\n",
       "      <th>4</th>\n",
       "      <td>0.530185</td>\n",
       "      <td>Normal</td>\n",
       "    </tr>\n",
       "    <tr>\n",
       "      <th>...</th>\n",
       "      <td>...</td>\n",
       "      <td>...</td>\n",
       "    </tr>\n",
       "    <tr>\n",
       "      <th>28360</th>\n",
       "      <td>0.488477</td>\n",
       "      <td>CSO</td>\n",
       "    </tr>\n",
       "    <tr>\n",
       "      <th>28361</th>\n",
       "      <td>0.443892</td>\n",
       "      <td>CSO</td>\n",
       "    </tr>\n",
       "    <tr>\n",
       "      <th>28362</th>\n",
       "      <td>0.568956</td>\n",
       "      <td>CSO</td>\n",
       "    </tr>\n",
       "    <tr>\n",
       "      <th>28363</th>\n",
       "      <td>0.564061</td>\n",
       "      <td>CSO</td>\n",
       "    </tr>\n",
       "    <tr>\n",
       "      <th>28364</th>\n",
       "      <td>0.532703</td>\n",
       "      <td>CSO</td>\n",
       "    </tr>\n",
       "  </tbody>\n",
       "</table>\n",
       "<p>28365 rows × 2 columns</p>\n",
       "</div>"
      ],
      "text/plain": [
       "           CORR    Type\n",
       "0      0.587246  Normal\n",
       "1      0.524909  Normal\n",
       "2      0.562878  Normal\n",
       "3      0.578580  Normal\n",
       "4      0.530185  Normal\n",
       "...         ...     ...\n",
       "28360  0.488477     CSO\n",
       "28361  0.443892     CSO\n",
       "28362  0.568956     CSO\n",
       "28363  0.564061     CSO\n",
       "28364  0.532703     CSO\n",
       "\n",
       "[28365 rows x 2 columns]"
      ]
     },
     "execution_count": 85,
     "metadata": {},
     "output_type": "execute_result"
    }
   ],
   "source": [
    "df_corrs"
   ]
  },
  {
   "cell_type": "code",
   "execution_count": 86,
   "metadata": {},
   "outputs": [
    {
     "data": {
      "image/png": "[encoded data removed]",
      "text/plain": [
       "<Figure size 360x360 with 1 Axes>"
      ]
     },
     "metadata": {
      "image/png": {
       "height": 327,
       "width": 330
      }
     },
     "output_type": "display_data"
    }
   ],
   "source": [
    "sns.set_style('white')\n",
    "plt.rc('font', size=16)\n",
    "plt.rcParams[\"figure.figsize\"] = (5.5,5)\n",
    "flierprops = dict(markerfacecolor='1.0', markersize='3',\n",
    "                  linestyle='none', marker = 'o')\n",
    "colorset = sns.color_palette(\"Set2\")\n",
    "colors = [colorset[i] for i in [1,2,3,4]]\n",
    "ax = sns.catplot(x=\"Type\", y=\"RSS\", kind=\"box\", palette = colors, \n",
    "                 data=df_rss, flierprops=flierprops);\n",
    "ax.set(ylim=(-50, -25))\n",
    "sns.despine(top=False, right=False)\n",
    "plt.xlabel(\"\")\n",
    "plt.ylabel(\"RSS Raw\")\n",
    "plt.savefig('rss_bar.eps', bbox_inches = 'tight', format='eps')"
   ]
  },
  {
   "cell_type": "code",
   "execution_count": 88,
   "metadata": {},
   "outputs": [],
   "source": [
    "df_samp = df_corrs.sample(frac = 0.1)"
   ]
  },
  {
   "cell_type": "code",
   "execution_count": 89,
   "metadata": {},
   "outputs": [],
   "source": [
    "# Get names of indexes for which column Age has value 30\n",
    "indexNames = df_corrs[ df_corrs['CORR'] <= 0.2 ].index\n",
    " \n",
    "# Delete these row indexes from dataFrame\n",
    "df_corrs.drop(indexNames , inplace=True)"
   ]
  },
  {
   "cell_type": "code",
   "execution_count": 90,
   "metadata": {},
   "outputs": [
    {
     "data": {
      "image/png": "[encoded data removed]",
      "text/plain": [
       "<Figure size 360x360 with 1 Axes>"
      ]
     },
     "metadata": {
      "image/png": {
       "height": 321,
       "width": 340
      }
     },
     "output_type": "display_data"
    }
   ],
   "source": [
    "sns.set_style('white')\n",
    "plt.rc('font', size=16)\n",
    "plt.rcParams[\"figure.figsize\"] = (5.5,5)\n",
    "flierprops = dict(markerfacecolor='1.0', markersize='3',\n",
    "                  linestyle='none', marker = 'o')\n",
    "colorset = sns.color_palette(\"Set2\")\n",
    "colors = [colorset[i] for i in [1,2,3,4]]\n",
    "ax = sns.catplot(x=\"Type\", y=\"CORR\", kind=\"box\", palette = colors, \n",
    "                 data=df_corrs, flierprops=flierprops);\n",
    "# ax.set(ylim=(-50, -25))\n",
    "sns.despine(top=False, right=False)\n",
    "plt.xlabel(\"\")\n",
    "plt.ylabel(\"RSS Auto-correlation\")\n",
    "plt.savefig('corr_bar.eps', bbox_inches = 'tight', format='eps')"
   ]
  },
  {
   "cell_type": "markdown",
   "metadata": {},
   "source": [
    "# Add jamming inside"
   ]
  },
  {
   "cell_type": "code",
   "execution_count": null,
   "metadata": {},
   "outputs": [],
   "source": [
    "def plot_single_spec(filename, title):\n",
    "    time_step = 1000\n",
    "    Slen = 128\n",
    "#     image_num = 5\n",
    "    time_duration = 10 # one image is about 1s, so # of images = time duration (s)\n",
    "    start_point = 12800\n",
    "    line_count = 0\n",
    "\n",
    "    fid = open(filename + '.txt','r')\n",
    "    if not os.path.exists('single_plot/' + filename + '/'):\n",
    "            os.makedirs('single_plot/' + filename + '/')\n",
    "\n",
    "    for i in range(0,start_point):\n",
    "            fid.readline()\n",
    "    for time in range(0,time_duration):\n",
    "            fig_name = 'single_plot/' + filename + '/' + str(time+2) + '00ms.png'\n",
    "#             fig,axes = plt.subplots(nrows=image_num,ncols=1,sharex=True,sharey=True)\n",
    "            fig = plt.figure()\n",
    "            plt.yticks([0,64,128],['0','2.5M','5M'])\n",
    "            plt.xticks([0,200,400,600,800,1000], [0,51.2,102.4,153.6,204.8,256],size=14)\n",
    "\n",
    "#             for index in range(0,image_num):\n",
    "            data = []\n",
    "            for i in range(0,time_step):\n",
    "                    line = fid.readline()\n",
    "                    line_count += 1\n",
    "                    amplitude = line.split()\n",
    "                    current_data = [float(i) for i in amplitude]\n",
    "                    data += current_data\n",
    "\n",
    "            data_array = np.array(data).reshape((time_step,Slen)).T\n",
    "            im = plt.imshow(data_array,cmap='jet',vmin=-70,vmax=-20,aspect='auto')\n",
    "            \n",
    "            fig.colorbar(im)\n",
    "            fig.suptitle(title,size=14)\n",
    "            plt.xlabel('time(ms)')\n",
    "            plt.ylabel('frequency bins')\n",
    "            fig.savefig(fig_name, dpi=1200)\n",
    "            plt.show()\n",
    "            plt.close(fig)"
   ]
  }
 ],
 "metadata": {
  "kernelspec": {
   "display_name": "env",
   "language": "python",
   "name": "env"
  },
  "language_info": {
   "codemirror_mode": {
    "name": "ipython",
    "version": 3
   },
   "file_extension": ".py",
   "mimetype": "text/x-python",
   "name": "python",
   "nbconvert_exporter": "python",
   "pygments_lexer": "ipython3",
   "version": "3.6.8"
  }
 },
 "nbformat": 4,
 "nbformat_minor": 2
}
